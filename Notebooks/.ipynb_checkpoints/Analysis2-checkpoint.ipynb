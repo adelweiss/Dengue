{
 "cells": [
  {
   "cell_type": "markdown",
   "metadata": {},
   "source": [
    "Importing Packages "
   ]
  },
  {
   "cell_type": "code",
   "execution_count": 1,
   "metadata": {},
   "outputs": [],
   "source": [
    "import pickle \n",
    "import matplotlib.pyplot as plt\n",
    "import numpy as np\n",
    "import pandas as pd\n",
    "from sklearn import datasets\n",
    "import seaborn as sns  \n",
    "# You can configure the format of the images: ‘png’, ‘retina’, ‘jpeg’, ‘svg’, ‘pdf’.\n",
    "%config InlineBackend.figure_format = 'svg'\n",
    "# this statement allows the visuals to render within your Jupyter Notebook\n",
    "%matplotlib inline \n",
    "\n",
    "from sklearn.model_selection import train_test_split\n",
    "from sklearn.linear_model import LinearRegression, Lasso, LassoCV, Ridge, RidgeCV\n",
    "from sklearn.metrics import r2_score\n",
    "from sklearn.preprocessing import StandardScaler, PolynomialFeatures\n",
    "from sklearn.model_selection import KFold\n",
    "\n",
    "import patsy\n",
    "import scipy.stats as stats\n",
    "\n",
    "import statsmodels.api as sm\n",
    "import statsmodels.formula.api as smf"
   ]
  },
  {
   "cell_type": "markdown",
   "metadata": {},
   "source": [
    "Opening pickle from cleaning notebook"
   ]
  },
  {
   "cell_type": "code",
   "execution_count": 2,
   "metadata": {},
   "outputs": [],
   "source": [
    "with open('//Users/adelweiss/Documents/Project/Project 2/data/df2.pickle','rb') as read_file:\n",
    "    df = pickle.load(read_file)"
   ]
  },
  {
   "cell_type": "markdown",
   "metadata": {},
   "source": [
    "Cleaning combined dataset "
   ]
  },
  {
   "cell_type": "code",
   "execution_count": 3,
   "metadata": {},
   "outputs": [
    {
     "name": "stdout",
     "output_type": "stream",
     "text": [
      "<class 'pandas.core.frame.DataFrame'>\n",
      "Int64Index: 261 entries, 51 to 208\n",
      "Data columns (total 17 columns):\n",
      "Dengue Cases                          261 non-null float64\n",
      "eweek                                 261 non-null object\n",
      "Daily Rainfall Total (mm)             249 non-null float64\n",
      "Mean Temperature (°C)                 249 non-null float64\n",
      "Maximum Temperature (°C)              249 non-null float64\n",
      "Minimum Temperature (°C)              249 non-null float64\n",
      "fever: (Singapore)                    260 non-null float64\n",
      "Nausea: (Singapore)                   260 non-null float64\n",
      "headache: (Singapore)                 260 non-null float64\n",
      "ache + pain: (Singapore)              260 non-null float64\n",
      "dengue fever: (Singapore)             260 non-null float64\n",
      "eye pain: (Singapore)                 260 non-null float64\n",
      "dengue: (Singapore)                   260 non-null float64\n",
      "dengue fever symptoms: (Singapore)    260 non-null float64\n",
      "rashes: (Singapore)                   260 non-null float64\n",
      "Vomiting: (Singapore)                 260 non-null float64\n",
      "Dengue Cases Week+1                   260 non-null float64\n",
      "dtypes: float64(16), object(1)\n",
      "memory usage: 36.7+ KB\n"
     ]
    }
   ],
   "source": [
    "df.info()"
   ]
  },
  {
   "cell_type": "code",
   "execution_count": 4,
   "metadata": {},
   "outputs": [],
   "source": [
    "### dropping NAs, \n",
    "df.dropna(inplace = True)\n",
    "\n",
    "### dropping these search terms because dengue would have covered them already \n",
    "df.drop(columns = ['dengue fever symptoms: (Singapore)', 'dengue fever: (Singapore)'], inplace = True)"
   ]
  },
  {
   "cell_type": "code",
   "execution_count": 5,
   "metadata": {},
   "outputs": [],
   "source": [
    "### I think i want to create temperature range based on the mean and max temperature... \n",
    "### I think lower temperature fluctuations should be better for breeding \n",
    "df ['Temperature Range'] = df['Maximum Temperature (°C)'] - df['Minimum Temperature (°C)']"
   ]
  },
  {
   "cell_type": "code",
   "execution_count": 6,
   "metadata": {},
   "outputs": [],
   "source": [
    "#sns.pairplot(df)"
   ]
  },
  {
   "cell_type": "code",
   "execution_count": 8,
   "metadata": {},
   "outputs": [],
   "source": [
    "### log transform dengue cases to correct for postive skew \n",
    "### I tried the other transformation as well, but log seems to have the best results \n",
    "\n",
    "df['log Dengue Cases Week+1'] = np.log(df['Dengue Cases Week+1'])\n",
    "#df['sq root Dengue Cases Week+1'] = np.sqrt(df['Dengue Cases Week+1'])\n",
    "#df['cbrt Dengue Cases Week+1'] = np.cbrt(df['Dengue Cases Week+1'])"
   ]
  },
  {
   "cell_type": "code",
   "execution_count": 9,
   "metadata": {},
   "outputs": [],
   "source": [
    "### making sure these variables are not thrown into the model \n",
    "df = df.drop(columns = ['Dengue Cases Week+1','eweek', 'Dengue Cases'])"
   ]
  },
  {
   "cell_type": "code",
   "execution_count": 10,
   "metadata": {},
   "outputs": [],
   "source": [
    "### i also need easier column names \n",
    "df.columns = ['rainfall', 'mean_temp', 'max_temp', 'min_temp', 'fever', 'nausea', 'headache',\n",
    "             'ache_pain', 'eye_pain', 'dengue', 'rashes', 'vomitting', 'temp_range', 'log_dengue_cases']"
   ]
  },
  {
   "cell_type": "code",
   "execution_count": 11,
   "metadata": {},
   "outputs": [
    {
     "data": {
      "text/html": [
       "<div>\n",
       "<style scoped>\n",
       "    .dataframe tbody tr th:only-of-type {\n",
       "        vertical-align: middle;\n",
       "    }\n",
       "\n",
       "    .dataframe tbody tr th {\n",
       "        vertical-align: top;\n",
       "    }\n",
       "\n",
       "    .dataframe thead th {\n",
       "        text-align: right;\n",
       "    }\n",
       "</style>\n",
       "<table border=\"1\" class=\"dataframe\">\n",
       "  <thead>\n",
       "    <tr style=\"text-align: right;\">\n",
       "      <th></th>\n",
       "      <th>rainfall</th>\n",
       "      <th>mean_temp</th>\n",
       "      <th>max_temp</th>\n",
       "      <th>min_temp</th>\n",
       "      <th>fever</th>\n",
       "      <th>nausea</th>\n",
       "      <th>headache</th>\n",
       "      <th>ache_pain</th>\n",
       "      <th>eye_pain</th>\n",
       "      <th>dengue</th>\n",
       "      <th>rashes</th>\n",
       "      <th>vomitting</th>\n",
       "      <th>temp_range</th>\n",
       "      <th>log_dengue_cases</th>\n",
       "    </tr>\n",
       "  </thead>\n",
       "  <tbody>\n",
       "    <tr>\n",
       "      <td>50</td>\n",
       "      <td>1.628571</td>\n",
       "      <td>27.485714</td>\n",
       "      <td>31.357143</td>\n",
       "      <td>25.442857</td>\n",
       "      <td>77.0</td>\n",
       "      <td>77.0</td>\n",
       "      <td>76.0</td>\n",
       "      <td>84.0</td>\n",
       "      <td>61.0</td>\n",
       "      <td>28.0</td>\n",
       "      <td>60.0</td>\n",
       "      <td>96.0</td>\n",
       "      <td>5.914286</td>\n",
       "      <td>5.075174</td>\n",
       "    </tr>\n",
       "    <tr>\n",
       "      <td>49</td>\n",
       "      <td>7.000000</td>\n",
       "      <td>27.457143</td>\n",
       "      <td>30.842857</td>\n",
       "      <td>24.885714</td>\n",
       "      <td>67.0</td>\n",
       "      <td>92.0</td>\n",
       "      <td>56.0</td>\n",
       "      <td>87.0</td>\n",
       "      <td>81.0</td>\n",
       "      <td>26.0</td>\n",
       "      <td>58.0</td>\n",
       "      <td>86.0</td>\n",
       "      <td>5.957143</td>\n",
       "      <td>4.844187</td>\n",
       "    </tr>\n",
       "    <tr>\n",
       "      <td>48</td>\n",
       "      <td>7.314286</td>\n",
       "      <td>27.157143</td>\n",
       "      <td>31.128571</td>\n",
       "      <td>23.957143</td>\n",
       "      <td>82.0</td>\n",
       "      <td>70.0</td>\n",
       "      <td>70.0</td>\n",
       "      <td>77.0</td>\n",
       "      <td>59.0</td>\n",
       "      <td>29.0</td>\n",
       "      <td>54.0</td>\n",
       "      <td>89.0</td>\n",
       "      <td>7.171429</td>\n",
       "      <td>4.672829</td>\n",
       "    </tr>\n",
       "    <tr>\n",
       "      <td>47</td>\n",
       "      <td>5.914286</td>\n",
       "      <td>27.228571</td>\n",
       "      <td>31.114286</td>\n",
       "      <td>24.342857</td>\n",
       "      <td>76.0</td>\n",
       "      <td>64.0</td>\n",
       "      <td>80.0</td>\n",
       "      <td>82.0</td>\n",
       "      <td>76.0</td>\n",
       "      <td>27.0</td>\n",
       "      <td>62.0</td>\n",
       "      <td>78.0</td>\n",
       "      <td>6.771429</td>\n",
       "      <td>4.727388</td>\n",
       "    </tr>\n",
       "    <tr>\n",
       "      <td>46</td>\n",
       "      <td>3.800000</td>\n",
       "      <td>27.457143</td>\n",
       "      <td>31.600000</td>\n",
       "      <td>25.014286</td>\n",
       "      <td>67.0</td>\n",
       "      <td>56.0</td>\n",
       "      <td>70.0</td>\n",
       "      <td>82.0</td>\n",
       "      <td>72.0</td>\n",
       "      <td>20.0</td>\n",
       "      <td>67.0</td>\n",
       "      <td>73.0</td>\n",
       "      <td>6.585714</td>\n",
       "      <td>4.691348</td>\n",
       "    </tr>\n",
       "    <tr>\n",
       "      <td>...</td>\n",
       "      <td>...</td>\n",
       "      <td>...</td>\n",
       "      <td>...</td>\n",
       "      <td>...</td>\n",
       "      <td>...</td>\n",
       "      <td>...</td>\n",
       "      <td>...</td>\n",
       "      <td>...</td>\n",
       "      <td>...</td>\n",
       "      <td>...</td>\n",
       "      <td>...</td>\n",
       "      <td>...</td>\n",
       "      <td>...</td>\n",
       "      <td>...</td>\n",
       "    </tr>\n",
       "    <tr>\n",
       "      <td>214</td>\n",
       "      <td>0.000000</td>\n",
       "      <td>26.071429</td>\n",
       "      <td>30.371429</td>\n",
       "      <td>23.342857</td>\n",
       "      <td>58.0</td>\n",
       "      <td>71.0</td>\n",
       "      <td>78.0</td>\n",
       "      <td>80.0</td>\n",
       "      <td>37.0</td>\n",
       "      <td>48.0</td>\n",
       "      <td>53.0</td>\n",
       "      <td>62.0</td>\n",
       "      <td>7.028571</td>\n",
       "      <td>5.262690</td>\n",
       "    </tr>\n",
       "    <tr>\n",
       "      <td>213</td>\n",
       "      <td>0.000000</td>\n",
       "      <td>25.757143</td>\n",
       "      <td>29.014286</td>\n",
       "      <td>23.642857</td>\n",
       "      <td>64.0</td>\n",
       "      <td>67.0</td>\n",
       "      <td>65.0</td>\n",
       "      <td>80.0</td>\n",
       "      <td>43.0</td>\n",
       "      <td>42.0</td>\n",
       "      <td>58.0</td>\n",
       "      <td>91.0</td>\n",
       "      <td>5.371429</td>\n",
       "      <td>5.910797</td>\n",
       "    </tr>\n",
       "    <tr>\n",
       "      <td>212</td>\n",
       "      <td>2.600000</td>\n",
       "      <td>26.271429</td>\n",
       "      <td>29.100000</td>\n",
       "      <td>24.357143</td>\n",
       "      <td>66.0</td>\n",
       "      <td>67.0</td>\n",
       "      <td>69.0</td>\n",
       "      <td>73.0</td>\n",
       "      <td>43.0</td>\n",
       "      <td>34.0</td>\n",
       "      <td>84.0</td>\n",
       "      <td>65.0</td>\n",
       "      <td>4.742857</td>\n",
       "      <td>5.609472</td>\n",
       "    </tr>\n",
       "    <tr>\n",
       "      <td>211</td>\n",
       "      <td>8.171429</td>\n",
       "      <td>26.171429</td>\n",
       "      <td>29.614286</td>\n",
       "      <td>24.057143</td>\n",
       "      <td>72.0</td>\n",
       "      <td>67.0</td>\n",
       "      <td>56.0</td>\n",
       "      <td>75.0</td>\n",
       "      <td>48.0</td>\n",
       "      <td>47.0</td>\n",
       "      <td>78.0</td>\n",
       "      <td>68.0</td>\n",
       "      <td>5.557143</td>\n",
       "      <td>5.455321</td>\n",
       "    </tr>\n",
       "    <tr>\n",
       "      <td>210</td>\n",
       "      <td>0.000000</td>\n",
       "      <td>27.075000</td>\n",
       "      <td>30.350000</td>\n",
       "      <td>24.925000</td>\n",
       "      <td>84.0</td>\n",
       "      <td>92.0</td>\n",
       "      <td>52.0</td>\n",
       "      <td>77.0</td>\n",
       "      <td>57.0</td>\n",
       "      <td>61.0</td>\n",
       "      <td>73.0</td>\n",
       "      <td>78.0</td>\n",
       "      <td>5.425000</td>\n",
       "      <td>5.817111</td>\n",
       "    </tr>\n",
       "  </tbody>\n",
       "</table>\n",
       "<p>248 rows × 14 columns</p>\n",
       "</div>"
      ],
      "text/plain": [
       "     rainfall  mean_temp   max_temp   min_temp  fever  nausea  headache  \\\n",
       "50   1.628571  27.485714  31.357143  25.442857   77.0    77.0      76.0   \n",
       "49   7.000000  27.457143  30.842857  24.885714   67.0    92.0      56.0   \n",
       "48   7.314286  27.157143  31.128571  23.957143   82.0    70.0      70.0   \n",
       "47   5.914286  27.228571  31.114286  24.342857   76.0    64.0      80.0   \n",
       "46   3.800000  27.457143  31.600000  25.014286   67.0    56.0      70.0   \n",
       "..        ...        ...        ...        ...    ...     ...       ...   \n",
       "214  0.000000  26.071429  30.371429  23.342857   58.0    71.0      78.0   \n",
       "213  0.000000  25.757143  29.014286  23.642857   64.0    67.0      65.0   \n",
       "212  2.600000  26.271429  29.100000  24.357143   66.0    67.0      69.0   \n",
       "211  8.171429  26.171429  29.614286  24.057143   72.0    67.0      56.0   \n",
       "210  0.000000  27.075000  30.350000  24.925000   84.0    92.0      52.0   \n",
       "\n",
       "     ache_pain  eye_pain  dengue  rashes  vomitting  temp_range  \\\n",
       "50        84.0      61.0    28.0    60.0       96.0    5.914286   \n",
       "49        87.0      81.0    26.0    58.0       86.0    5.957143   \n",
       "48        77.0      59.0    29.0    54.0       89.0    7.171429   \n",
       "47        82.0      76.0    27.0    62.0       78.0    6.771429   \n",
       "46        82.0      72.0    20.0    67.0       73.0    6.585714   \n",
       "..         ...       ...     ...     ...        ...         ...   \n",
       "214       80.0      37.0    48.0    53.0       62.0    7.028571   \n",
       "213       80.0      43.0    42.0    58.0       91.0    5.371429   \n",
       "212       73.0      43.0    34.0    84.0       65.0    4.742857   \n",
       "211       75.0      48.0    47.0    78.0       68.0    5.557143   \n",
       "210       77.0      57.0    61.0    73.0       78.0    5.425000   \n",
       "\n",
       "     log_dengue_cases  \n",
       "50           5.075174  \n",
       "49           4.844187  \n",
       "48           4.672829  \n",
       "47           4.727388  \n",
       "46           4.691348  \n",
       "..                ...  \n",
       "214          5.262690  \n",
       "213          5.910797  \n",
       "212          5.609472  \n",
       "211          5.455321  \n",
       "210          5.817111  \n",
       "\n",
       "[248 rows x 14 columns]"
      ]
     },
     "execution_count": 11,
     "metadata": {},
     "output_type": "execute_result"
    }
   ],
   "source": [
    "df"
   ]
  },
  {
   "cell_type": "markdown",
   "metadata": {},
   "source": [
    "Cross validation of regressions model "
   ]
  },
  {
   "cell_type": "code",
   "execution_count": 12,
   "metadata": {},
   "outputs": [],
   "source": [
    "###split into train and test \n",
    "X, y = df.drop(['log_dengue_cases'],axis=1), df['log_dengue_cases']"
   ]
  },
  {
   "cell_type": "code",
   "execution_count": 13,
   "metadata": {},
   "outputs": [],
   "source": [
    "X_train, X_test, y_train, y_test = train_test_split(X, y, test_size=.2, random_state=10)\n",
    "X_train, y_train = np.array(X_train), np.array(y_train) "
   ]
  },
  {
   "cell_type": "code",
   "execution_count": 14,
   "metadata": {},
   "outputs": [
    {
     "name": "stdout",
     "output_type": "stream",
     "text": [
      "Simple regression scores:  [0.642712927122955, 0.7342182425957886, 0.6484603047468429, 0.7406216387429945, 0.6686239145899813]\n",
      "Polynomial scores:  [0.5811140820595584, 0.3041073995103635, 0.3152094832278556, 0.6551461915181285, 0.0639867476556284] \n",
      "\n",
      "Ridge scores:  [0.6427802379933143, 0.73518675096652, 0.6473833835586174, 0.7431964015569197, 0.6677611663179613] \n",
      "\n",
      "Lasso scores:  [-4.493844615005571e-05, -7.808818365262482e-07, -0.02852945255842787, -0.0012294067577502954, -0.02211139359063341] \n",
      "\n",
      "Simple mean cv r^2: 0.687 +- 0.042\n",
      "Polynomial mean cv r^2: 0.384 +- 0.213\n",
      "Ridge mean cv r^2: 0.687 +- 0.043\n",
      "Lasso mean cv r^2: -0.010 +- 0.012\n"
     ]
    }
   ],
   "source": [
    "### then compare which is the best models...\n",
    "kf = KFold(n_splits=5, shuffle=True, random_state = 71)\n",
    "cv_lm_r2s, cv_lm_poly_r2s, cv_lm_reg_r2s, cv_lm_lasso_r2s = [], [], [], []#collect the validation results for both models\n",
    "\n",
    "for train_ind, val_ind in kf.split(X_train,y_train):\n",
    "    X_trainfold, y_trainfold = X_train[train_ind], y_train[train_ind]\n",
    "    X_val, y_val = X_train[val_ind], y_train[val_ind] \n",
    "    \n",
    "    #Scale variables \n",
    "    scaler = StandardScaler()\n",
    "    X_trainfold_scaled = scaler.fit_transform(X_trainfold)\n",
    "    X_val_scaled = scaler.transform(X_val)\n",
    "    \n",
    "    #simple linear regression  \n",
    "    lm = LinearRegression()\n",
    "    lm.fit(X_trainfold_scaled, y_trainfold)\n",
    "    cv_lm_r2s.append(lm.score(X_val_scaled, y_val))\n",
    "    \n",
    "    #polynomial with feature scaling\n",
    "    lm_poly = LinearRegression()\n",
    "    poly = PolynomialFeatures(degree=2) \n",
    "    X_train_poly = poly.fit_transform(X_trainfold_scaled)\n",
    "    X_val_poly = poly.transform(X_val_scaled)\n",
    "    lm_poly.fit(X_train_poly, y_trainfold)\n",
    "    cv_lm_poly_r2s.append(lm_poly.score(X_val_poly, y_val))\n",
    "    \n",
    "    #ridge regression with feature scaling \n",
    "    lm_reg = Ridge()\n",
    "    #lm_reg = Ridge(alpha=14)\n",
    "    lm_reg.fit(X_trainfold_scaled, y_trainfold)\n",
    "    cv_lm_reg_r2s.append(lm_reg.score(X_val_scaled, y_val))\n",
    "    \n",
    "    #lasso regression with feature scaling \n",
    "    lm_lasso = Lasso()\n",
    "    #lm_lasso = Lasso(alpha = 0.01)\n",
    "    lm_lasso.fit(X_trainfold_scaled, y_trainfold)\n",
    "    cv_lm_lasso_r2s.append(lm_lasso.score(X_val_scaled, y_val))\n",
    "    \n",
    "print('Simple regression scores: ', cv_lm_r2s)\n",
    "print('Polynomial scores: ', cv_lm_poly_r2s, '\\n')\n",
    "print('Ridge scores: ', cv_lm_reg_r2s, '\\n')\n",
    "print('Lasso scores: ', cv_lm_lasso_r2s, '\\n')\n",
    "\n",
    "print(f'Simple mean cv r^2: {np.mean(cv_lm_r2s):.3f} +- {np.std(cv_lm_r2s):.3f}')\n",
    "print(f'Polynomial mean cv r^2: {np.mean(cv_lm_poly_r2s):.3f} +- {np.std(cv_lm_poly_r2s):.3f}')\n",
    "print(f'Ridge mean cv r^2: {np.mean(cv_lm_reg_r2s):.3f} +- {np.std(cv_lm_reg_r2s):.3f}')\n",
    "print(f'Lasso mean cv r^2: {np.mean(cv_lm_lasso_r2s):.3f} +- {np.std(cv_lm_lasso_r2s):.3f}')"
   ]
  },
  {
   "cell_type": "markdown",
   "metadata": {},
   "source": [
    "Looks like simple linear is the way to go. Let's try to do some feature selection using Lasso"
   ]
  },
  {
   "cell_type": "code",
   "execution_count": 15,
   "metadata": {},
   "outputs": [
    {
     "data": {
      "text/plain": [
       "[('rainfall', 0.0),\n",
       " ('mean_temp', 0.0),\n",
       " ('max_temp', 0.0525803732086567),\n",
       " ('min_temp', 0.04187654885134822),\n",
       " ('fever', 0.0),\n",
       " ('nausea', 0.0),\n",
       " ('headache', -0.16104992337374358),\n",
       " ('ache_pain', -0.20894770997002585),\n",
       " ('eye_pain', 0.00936787784137045),\n",
       " ('dengue', 0.5121045543521834),\n",
       " ('rashes', 0.05882277660285102),\n",
       " ('vomitting', -0.04953631664109956),\n",
       " ('temp_range', 0.0)]"
      ]
     },
     "execution_count": 15,
     "metadata": {},
     "output_type": "execute_result"
    }
   ],
   "source": [
    "### looks like non-polynomial is the way to go.... \n",
    "### let's try to reduce the model complexity \n",
    "### thru feature selection before we optimise alpha for ridge\n",
    "\n",
    "#need to redo this cuz CV\n",
    "X_train, X_test, y_train, y_test = train_test_split(X, y, test_size=.2, random_state=10)\n",
    "### Scaling the variables \n",
    "scaler = StandardScaler()\n",
    "X_train_scaled = scaler.fit_transform(X_train) \n",
    "X_test_scaled = scaler.transform(X_test) \n",
    "\n",
    "### Applying lasso model on the train dataset \n",
    "alphavec = 10**np.linspace(-2,2,200)\n",
    "lasso_model = LassoCV(alphas = alphavec, cv=5)\n",
    "lasso_model.fit(X_train_scaled, y_train)\n",
    "list(zip(X_train, lasso_model.coef_))"
   ]
  },
  {
   "cell_type": "code",
   "execution_count": 16,
   "metadata": {},
   "outputs": [],
   "source": [
    "###dropping columns that hit zero or v close to zero for optimal lasso \n",
    "df = df.drop(columns = ['rainfall','mean_temp','fever','nausea','eye_pain', \n",
    "                        'vomitting', 'temp_range'])"
   ]
  },
  {
   "cell_type": "code",
   "execution_count": 17,
   "metadata": {},
   "outputs": [],
   "source": [
    "X, y = df.drop(['log_dengue_cases'],axis=1), df['log_dengue_cases']\n",
    "X_train, X_test, y_train, y_test = train_test_split(X, y, test_size=.2, random_state=10)\n",
    "X_train, y_train = np.array(X_train), np.array(y_train) "
   ]
  },
  {
   "cell_type": "code",
   "execution_count": 18,
   "metadata": {},
   "outputs": [
    {
     "name": "stdout",
     "output_type": "stream",
     "text": [
      "Simple regression scores:  [0.6521995515053702, 0.7564259882555001, 0.6951379707791366, 0.7323346593987692, 0.6581984528369955]\n",
      "Ridge scores:  [0.6512626591057531, 0.7560087058555229, 0.6953536619955379, 0.7342745866015052, 0.658960450827154] \n",
      "\n",
      "Simple mean cv r^2: 0.699 +- 0.041\n",
      "Ridge mean cv r^2: 0.699 +- 0.041\n"
     ]
    }
   ],
   "source": [
    "### then compare which is the best models...\n",
    "kf = KFold(n_splits=5, shuffle=True, random_state = 71)\n",
    "cv_lm_r2s, cv_lm_reg_r2s  = [], []#collect the validation results for both models\n",
    "\n",
    "for train_ind, val_ind in kf.split(X_train,y_train):\n",
    "    X_trainfold, y_trainfold = X_train[train_ind], y_train[train_ind]\n",
    "    X_val, y_val = X_train[val_ind], y_train[val_ind] \n",
    "    \n",
    "    #Scale variables \n",
    "    scaler = StandardScaler()\n",
    "    X_trainfold_scaled = scaler.fit_transform(X_trainfold)\n",
    "    X_val_scaled = scaler.transform(X_val)\n",
    "    \n",
    "    #simple linear regression using feature scaling \n",
    "    lm = LinearRegression()\n",
    "    lm.fit(X_trainfold_scaled, y_trainfold)\n",
    "    cv_lm_r2s.append(lm.score(X_val_scaled, y_val))\n",
    "        \n",
    "    #ridge regression with feature scaling \n",
    "    lm_reg = Ridge()\n",
    "    lm_reg.fit(X_trainfold_scaled, y_trainfold)\n",
    "    cv_lm_reg_r2s.append(lm_reg.score(X_val_scaled, y_val))\n",
    "    \n",
    "print('Simple regression scores: ', cv_lm_r2s)\n",
    "print('Ridge scores: ', cv_lm_reg_r2s, '\\n')\n",
    "\n",
    "print(f'Simple mean cv r^2: {np.mean(cv_lm_r2s):.3f} +- {np.std(cv_lm_r2s):.3f}')\n",
    "print(f'Ridge mean cv r^2: {np.mean(cv_lm_reg_r2s):.3f} +- {np.std(cv_lm_reg_r2s):.3f}')\n"
   ]
  },
  {
   "cell_type": "code",
   "execution_count": 41,
   "metadata": {},
   "outputs": [
    {
     "name": "stderr",
     "output_type": "stream",
     "text": [
      "//anaconda3/lib/python3.7/site-packages/sklearn/model_selection/_search.py:814: DeprecationWarning: The default of the `iid` parameter will change from True to False in version 0.22 and will be removed in 0.24. This will change numeric results when test-set sizes are unequal.\n",
      "  DeprecationWarning)\n"
     ]
    },
    {
     "data": {
      "text/plain": [
       "8.603464416684501"
      ]
     },
     "execution_count": 41,
     "metadata": {},
     "output_type": "execute_result"
    }
   ],
   "source": [
    "### doing this again cuz RidgeCV doesn't handle arrays \n",
    "X_train, X_test, y_train, y_test = train_test_split(X, y, test_size=.2, random_state=10)\n",
    "### Scaling the variables \n",
    "scaler = StandardScaler()\n",
    "X_train_scaled = scaler.fit_transform(X_train) \n",
    "X_test_scaled = scaler.transform(X_test) \n",
    "\n",
    "### Applying lasso model on the train dataset \n",
    "alphavec = 10**np.linspace(-2,2,200)\n",
    "reg_model = RidgeCV(alphas = alphavec, cv=5)\n",
    "reg_model.fit(X_train_scaled, y_train)\n",
    "reg_model.alpha_\n",
    "#list(zip(X_train, lasso_model.coef_))"
   ]
  },
  {
   "cell_type": "code",
   "execution_count": 20,
   "metadata": {},
   "outputs": [
    {
     "data": {
      "text/plain": [
       "0.7172004673775667"
      ]
     },
     "execution_count": 20,
     "metadata": {},
     "output_type": "execute_result"
    }
   ],
   "source": [
    "### not much difference in r2, so let's try both \n",
    "reg_model = Ridge(alpha = 8.6) \n",
    "reg_model.fit(X_train_scaled, y_train)\n",
    "reg_model.score(X_test_scaled, y_test)"
   ]
  },
  {
   "cell_type": "code",
   "execution_count": 21,
   "metadata": {},
   "outputs": [
    {
     "data": {
      "text/plain": [
       "0.7236841992106057"
      ]
     },
     "execution_count": 21,
     "metadata": {},
     "output_type": "execute_result"
    }
   ],
   "source": [
    "lm = LinearRegression()\n",
    "lm.fit(X_train_scaled, y_train)\n",
    "lm.score(X_test_scaled, y_test)\n",
    "\n",
    "### let's just stick to the simple model.. "
   ]
  },
  {
   "cell_type": "markdown",
   "metadata": {},
   "source": [
    "Test assumptions of model "
   ]
  },
  {
   "cell_type": "code",
   "execution_count": 42,
   "metadata": {},
   "outputs": [],
   "source": [
    "X_train_scaled = X_train.apply(lambda x: (x-x.mean()) / x.std())"
   ]
  },
  {
   "cell_type": "code",
   "execution_count": 23,
   "metadata": {},
   "outputs": [],
   "source": [
    "df_for_stats_model = pd.merge(y_train, X_train_scaled, left_index=True, right_index=True)"
   ]
  },
  {
   "cell_type": "code",
   "execution_count": 24,
   "metadata": {},
   "outputs": [
    {
     "data": {
      "text/html": [
       "<div>\n",
       "<style scoped>\n",
       "    .dataframe tbody tr th:only-of-type {\n",
       "        vertical-align: middle;\n",
       "    }\n",
       "\n",
       "    .dataframe tbody tr th {\n",
       "        vertical-align: top;\n",
       "    }\n",
       "\n",
       "    .dataframe thead th {\n",
       "        text-align: right;\n",
       "    }\n",
       "</style>\n",
       "<table border=\"1\" class=\"dataframe\">\n",
       "  <thead>\n",
       "    <tr style=\"text-align: right;\">\n",
       "      <th></th>\n",
       "      <th>log_dengue_cases</th>\n",
       "      <th>max_temp</th>\n",
       "      <th>min_temp</th>\n",
       "      <th>headache</th>\n",
       "      <th>ache_pain</th>\n",
       "      <th>dengue</th>\n",
       "      <th>rashes</th>\n",
       "    </tr>\n",
       "  </thead>\n",
       "  <tbody>\n",
       "    <tr>\n",
       "      <td>log_dengue_cases</td>\n",
       "      <td>1.000000</td>\n",
       "      <td>0.205563</td>\n",
       "      <td>0.240943</td>\n",
       "      <td>-0.436737</td>\n",
       "      <td>-0.473788</td>\n",
       "      <td>0.756265</td>\n",
       "      <td>0.177368</td>\n",
       "    </tr>\n",
       "    <tr>\n",
       "      <td>max_temp</td>\n",
       "      <td>0.205563</td>\n",
       "      <td>1.000000</td>\n",
       "      <td>0.631257</td>\n",
       "      <td>-0.036505</td>\n",
       "      <td>-0.068171</td>\n",
       "      <td>0.123982</td>\n",
       "      <td>-0.188374</td>\n",
       "    </tr>\n",
       "    <tr>\n",
       "      <td>min_temp</td>\n",
       "      <td>0.240943</td>\n",
       "      <td>0.631257</td>\n",
       "      <td>1.000000</td>\n",
       "      <td>-0.089406</td>\n",
       "      <td>0.018320</td>\n",
       "      <td>0.200945</td>\n",
       "      <td>-0.115326</td>\n",
       "    </tr>\n",
       "    <tr>\n",
       "      <td>headache</td>\n",
       "      <td>-0.436737</td>\n",
       "      <td>-0.036505</td>\n",
       "      <td>-0.089406</td>\n",
       "      <td>1.000000</td>\n",
       "      <td>0.352025</td>\n",
       "      <td>-0.213776</td>\n",
       "      <td>0.038136</td>\n",
       "    </tr>\n",
       "    <tr>\n",
       "      <td>ache_pain</td>\n",
       "      <td>-0.473788</td>\n",
       "      <td>-0.068171</td>\n",
       "      <td>0.018320</td>\n",
       "      <td>0.352025</td>\n",
       "      <td>1.000000</td>\n",
       "      <td>-0.208146</td>\n",
       "      <td>-0.010352</td>\n",
       "    </tr>\n",
       "    <tr>\n",
       "      <td>dengue</td>\n",
       "      <td>0.756265</td>\n",
       "      <td>0.123982</td>\n",
       "      <td>0.200945</td>\n",
       "      <td>-0.213776</td>\n",
       "      <td>-0.208146</td>\n",
       "      <td>1.000000</td>\n",
       "      <td>0.186603</td>\n",
       "    </tr>\n",
       "    <tr>\n",
       "      <td>rashes</td>\n",
       "      <td>0.177368</td>\n",
       "      <td>-0.188374</td>\n",
       "      <td>-0.115326</td>\n",
       "      <td>0.038136</td>\n",
       "      <td>-0.010352</td>\n",
       "      <td>0.186603</td>\n",
       "      <td>1.000000</td>\n",
       "    </tr>\n",
       "  </tbody>\n",
       "</table>\n",
       "</div>"
      ],
      "text/plain": [
       "                  log_dengue_cases  max_temp  min_temp  headache  ache_pain  \\\n",
       "log_dengue_cases          1.000000  0.205563  0.240943 -0.436737  -0.473788   \n",
       "max_temp                  0.205563  1.000000  0.631257 -0.036505  -0.068171   \n",
       "min_temp                  0.240943  0.631257  1.000000 -0.089406   0.018320   \n",
       "headache                 -0.436737 -0.036505 -0.089406  1.000000   0.352025   \n",
       "ache_pain                -0.473788 -0.068171  0.018320  0.352025   1.000000   \n",
       "dengue                    0.756265  0.123982  0.200945 -0.213776  -0.208146   \n",
       "rashes                    0.177368 -0.188374 -0.115326  0.038136  -0.010352   \n",
       "\n",
       "                    dengue    rashes  \n",
       "log_dengue_cases  0.756265  0.177368  \n",
       "max_temp          0.123982 -0.188374  \n",
       "min_temp          0.200945 -0.115326  \n",
       "headache         -0.213776  0.038136  \n",
       "ache_pain        -0.208146 -0.010352  \n",
       "dengue            1.000000  0.186603  \n",
       "rashes            0.186603  1.000000  "
      ]
     },
     "execution_count": 24,
     "metadata": {},
     "output_type": "execute_result"
    }
   ],
   "source": [
    "df_for_stats_model.corr()"
   ]
  },
  {
   "cell_type": "code",
   "execution_count": 27,
   "metadata": {},
   "outputs": [
    {
     "data": {
      "text/html": [
       "<table class=\"simpletable\">\n",
       "<caption>OLS Regression Results</caption>\n",
       "<tr>\n",
       "  <th>Dep. Variable:</th>    <td>log_dengue_cases</td> <th>  R-squared:         </th> <td>   0.731</td>\n",
       "</tr>\n",
       "<tr>\n",
       "  <th>Model:</th>                   <td>OLS</td>       <th>  Adj. R-squared:    </th> <td>   0.723</td>\n",
       "</tr>\n",
       "<tr>\n",
       "  <th>Method:</th>             <td>Least Squares</td>  <th>  F-statistic:       </th> <td>   86.50</td>\n",
       "</tr>\n",
       "<tr>\n",
       "  <th>Date:</th>             <td>Tue, 22 Oct 2019</td> <th>  Prob (F-statistic):</th> <td>8.86e-52</td>\n",
       "</tr>\n",
       "<tr>\n",
       "  <th>Time:</th>                 <td>13:55:00</td>     <th>  Log-Likelihood:    </th> <td> -119.42</td>\n",
       "</tr>\n",
       "<tr>\n",
       "  <th>No. Observations:</th>      <td>   198</td>      <th>  AIC:               </th> <td>   252.8</td>\n",
       "</tr>\n",
       "<tr>\n",
       "  <th>Df Residuals:</th>          <td>   191</td>      <th>  BIC:               </th> <td>   275.9</td>\n",
       "</tr>\n",
       "<tr>\n",
       "  <th>Df Model:</th>              <td>     6</td>      <th>                     </th>     <td> </td>   \n",
       "</tr>\n",
       "<tr>\n",
       "  <th>Covariance Type:</th>      <td>nonrobust</td>    <th>                     </th>     <td> </td>   \n",
       "</tr>\n",
       "</table>\n",
       "<table class=\"simpletable\">\n",
       "<tr>\n",
       "      <td></td>         <th>coef</th>     <th>std err</th>      <th>t</th>      <th>P>|t|</th>  <th>[0.025</th>    <th>0.975]</th>  \n",
       "</tr>\n",
       "<tr>\n",
       "  <th>Intercept</th> <td>    4.8577</td> <td>    0.032</td> <td>  151.793</td> <td> 0.000</td> <td>    4.795</td> <td>    4.921</td>\n",
       "</tr>\n",
       "<tr>\n",
       "  <th>max_temp</th>  <td>    0.0687</td> <td>    0.042</td> <td>    1.628</td> <td> 0.105</td> <td>   -0.015</td> <td>    0.152</td>\n",
       "</tr>\n",
       "<tr>\n",
       "  <th>min_temp</th>  <td>    0.0539</td> <td>    0.042</td> <td>    1.272</td> <td> 0.205</td> <td>   -0.030</td> <td>    0.138</td>\n",
       "</tr>\n",
       "<tr>\n",
       "  <th>headache</th>  <td>   -0.1756</td> <td>    0.035</td> <td>   -5.023</td> <td> 0.000</td> <td>   -0.245</td> <td>   -0.107</td>\n",
       "</tr>\n",
       "<tr>\n",
       "  <th>ache_pain</th> <td>   -0.2289</td> <td>    0.035</td> <td>   -6.536</td> <td> 0.000</td> <td>   -0.298</td> <td>   -0.160</td>\n",
       "</tr>\n",
       "<tr>\n",
       "  <th>dengue</th>    <td>    0.5277</td> <td>    0.035</td> <td>   15.181</td> <td> 0.000</td> <td>    0.459</td> <td>    0.596</td>\n",
       "</tr>\n",
       "<tr>\n",
       "  <th>rashes</th>    <td>    0.0766</td> <td>    0.034</td> <td>    2.283</td> <td> 0.024</td> <td>    0.010</td> <td>    0.143</td>\n",
       "</tr>\n",
       "</table>\n",
       "<table class=\"simpletable\">\n",
       "<tr>\n",
       "  <th>Omnibus:</th>       <td> 0.299</td> <th>  Durbin-Watson:     </th> <td>   2.131</td>\n",
       "</tr>\n",
       "<tr>\n",
       "  <th>Prob(Omnibus):</th> <td> 0.861</td> <th>  Jarque-Bera (JB):  </th> <td>   0.450</td>\n",
       "</tr>\n",
       "<tr>\n",
       "  <th>Skew:</th>          <td> 0.048</td> <th>  Prob(JB):          </th> <td>   0.799</td>\n",
       "</tr>\n",
       "<tr>\n",
       "  <th>Kurtosis:</th>      <td> 2.787</td> <th>  Cond. No.          </th> <td>    2.29</td>\n",
       "</tr>\n",
       "</table><br/><br/>Warnings:<br/>[1] Standard Errors assume that the covariance matrix of the errors is correctly specified."
      ],
      "text/plain": [
       "<class 'statsmodels.iolib.summary.Summary'>\n",
       "\"\"\"\n",
       "                            OLS Regression Results                            \n",
       "==============================================================================\n",
       "Dep. Variable:       log_dengue_cases   R-squared:                       0.731\n",
       "Model:                            OLS   Adj. R-squared:                  0.723\n",
       "Method:                 Least Squares   F-statistic:                     86.50\n",
       "Date:                Tue, 22 Oct 2019   Prob (F-statistic):           8.86e-52\n",
       "Time:                        13:55:00   Log-Likelihood:                -119.42\n",
       "No. Observations:                 198   AIC:                             252.8\n",
       "Df Residuals:                     191   BIC:                             275.9\n",
       "Df Model:                           6                                         \n",
       "Covariance Type:            nonrobust                                         \n",
       "==============================================================================\n",
       "                 coef    std err          t      P>|t|      [0.025      0.975]\n",
       "------------------------------------------------------------------------------\n",
       "Intercept      4.8577      0.032    151.793      0.000       4.795       4.921\n",
       "max_temp       0.0687      0.042      1.628      0.105      -0.015       0.152\n",
       "min_temp       0.0539      0.042      1.272      0.205      -0.030       0.138\n",
       "headache      -0.1756      0.035     -5.023      0.000      -0.245      -0.107\n",
       "ache_pain     -0.2289      0.035     -6.536      0.000      -0.298      -0.160\n",
       "dengue         0.5277      0.035     15.181      0.000       0.459       0.596\n",
       "rashes         0.0766      0.034      2.283      0.024       0.010       0.143\n",
       "==============================================================================\n",
       "Omnibus:                        0.299   Durbin-Watson:                   2.131\n",
       "Prob(Omnibus):                  0.861   Jarque-Bera (JB):                0.450\n",
       "Skew:                           0.048   Prob(JB):                        0.799\n",
       "Kurtosis:                       2.787   Cond. No.                         2.29\n",
       "==============================================================================\n",
       "\n",
       "Warnings:\n",
       "[1] Standard Errors assume that the covariance matrix of the errors is correctly specified.\n",
       "\"\"\""
      ]
     },
     "execution_count": 27,
     "metadata": {},
     "output_type": "execute_result"
    }
   ],
   "source": [
    "# Create your feature matrix (X) and target vector (y)\n",
    "y, X = patsy.dmatrices('log_dengue_cases ~ max_temp + min_temp + headache + ache_pain + dengue + rashes', \n",
    "                       data=df_for_stats_model, return_type=\"dataframe\")\n",
    "\n",
    "# Create your model\n",
    "model = sm.OLS(y, X)\n",
    "\n",
    "# Fit your model to your training set\n",
    "fit = model.fit()\n",
    "\n",
    "# Print summary statistics of the model's performance\n",
    "fit.summary()"
   ]
  },
  {
   "cell_type": "code",
   "execution_count": 28,
   "metadata": {},
   "outputs": [
    {
     "data": {
      "text/html": [
       "<table class=\"simpletable\">\n",
       "<caption>OLS Regression Results</caption>\n",
       "<tr>\n",
       "  <th>Dep. Variable:</th>    <td>log_dengue_cases</td> <th>  R-squared:         </th> <td>   0.729</td>\n",
       "</tr>\n",
       "<tr>\n",
       "  <th>Model:</th>                   <td>OLS</td>       <th>  Adj. R-squared:    </th> <td>   0.722</td>\n",
       "</tr>\n",
       "<tr>\n",
       "  <th>Method:</th>             <td>Least Squares</td>  <th>  F-statistic:       </th> <td>   103.1</td>\n",
       "</tr>\n",
       "<tr>\n",
       "  <th>Date:</th>             <td>Tue, 22 Oct 2019</td> <th>  Prob (F-statistic):</th> <td>1.84e-52</td>\n",
       "</tr>\n",
       "<tr>\n",
       "  <th>Time:</th>                 <td>13:56:15</td>     <th>  Log-Likelihood:    </th> <td> -120.25</td>\n",
       "</tr>\n",
       "<tr>\n",
       "  <th>No. Observations:</th>      <td>   198</td>      <th>  AIC:               </th> <td>   252.5</td>\n",
       "</tr>\n",
       "<tr>\n",
       "  <th>Df Residuals:</th>          <td>   192</td>      <th>  BIC:               </th> <td>   272.2</td>\n",
       "</tr>\n",
       "<tr>\n",
       "  <th>Df Model:</th>              <td>     5</td>      <th>                     </th>     <td> </td>   \n",
       "</tr>\n",
       "<tr>\n",
       "  <th>Covariance Type:</th>      <td>nonrobust</td>    <th>                     </th>     <td> </td>   \n",
       "</tr>\n",
       "</table>\n",
       "<table class=\"simpletable\">\n",
       "<tr>\n",
       "      <td></td>         <th>coef</th>     <th>std err</th>      <th>t</th>      <th>P>|t|</th>  <th>[0.025</th>    <th>0.975]</th>  \n",
       "</tr>\n",
       "<tr>\n",
       "  <th>Intercept</th> <td>    4.8577</td> <td>    0.032</td> <td>  151.549</td> <td> 0.000</td> <td>    4.794</td> <td>    4.921</td>\n",
       "</tr>\n",
       "<tr>\n",
       "  <th>max_temp</th>  <td>    0.1019</td> <td>    0.033</td> <td>    3.068</td> <td> 0.002</td> <td>    0.036</td> <td>    0.167</td>\n",
       "</tr>\n",
       "<tr>\n",
       "  <th>headache</th>  <td>   -0.1798</td> <td>    0.035</td> <td>   -5.158</td> <td> 0.000</td> <td>   -0.249</td> <td>   -0.111</td>\n",
       "</tr>\n",
       "<tr>\n",
       "  <th>ache_pain</th> <td>   -0.2227</td> <td>    0.035</td> <td>   -6.411</td> <td> 0.000</td> <td>   -0.291</td> <td>   -0.154</td>\n",
       "</tr>\n",
       "<tr>\n",
       "  <th>dengue</th>    <td>    0.5350</td> <td>    0.034</td> <td>   15.582</td> <td> 0.000</td> <td>    0.467</td> <td>    0.603</td>\n",
       "</tr>\n",
       "<tr>\n",
       "  <th>rashes</th>    <td>    0.0755</td> <td>    0.034</td> <td>    2.247</td> <td> 0.026</td> <td>    0.009</td> <td>    0.142</td>\n",
       "</tr>\n",
       "</table>\n",
       "<table class=\"simpletable\">\n",
       "<tr>\n",
       "  <th>Omnibus:</th>       <td> 0.914</td> <th>  Durbin-Watson:     </th> <td>   2.138</td>\n",
       "</tr>\n",
       "<tr>\n",
       "  <th>Prob(Omnibus):</th> <td> 0.633</td> <th>  Jarque-Bera (JB):  </th> <td>   0.984</td>\n",
       "</tr>\n",
       "<tr>\n",
       "  <th>Skew:</th>          <td> 0.079</td> <th>  Prob(JB):          </th> <td>   0.611</td>\n",
       "</tr>\n",
       "<tr>\n",
       "  <th>Kurtosis:</th>      <td> 2.692</td> <th>  Cond. No.          </th> <td>    1.60</td>\n",
       "</tr>\n",
       "</table><br/><br/>Warnings:<br/>[1] Standard Errors assume that the covariance matrix of the errors is correctly specified."
      ],
      "text/plain": [
       "<class 'statsmodels.iolib.summary.Summary'>\n",
       "\"\"\"\n",
       "                            OLS Regression Results                            \n",
       "==============================================================================\n",
       "Dep. Variable:       log_dengue_cases   R-squared:                       0.729\n",
       "Model:                            OLS   Adj. R-squared:                  0.722\n",
       "Method:                 Least Squares   F-statistic:                     103.1\n",
       "Date:                Tue, 22 Oct 2019   Prob (F-statistic):           1.84e-52\n",
       "Time:                        13:56:15   Log-Likelihood:                -120.25\n",
       "No. Observations:                 198   AIC:                             252.5\n",
       "Df Residuals:                     192   BIC:                             272.2\n",
       "Df Model:                           5                                         \n",
       "Covariance Type:            nonrobust                                         \n",
       "==============================================================================\n",
       "                 coef    std err          t      P>|t|      [0.025      0.975]\n",
       "------------------------------------------------------------------------------\n",
       "Intercept      4.8577      0.032    151.549      0.000       4.794       4.921\n",
       "max_temp       0.1019      0.033      3.068      0.002       0.036       0.167\n",
       "headache      -0.1798      0.035     -5.158      0.000      -0.249      -0.111\n",
       "ache_pain     -0.2227      0.035     -6.411      0.000      -0.291      -0.154\n",
       "dengue         0.5350      0.034     15.582      0.000       0.467       0.603\n",
       "rashes         0.0755      0.034      2.247      0.026       0.009       0.142\n",
       "==============================================================================\n",
       "Omnibus:                        0.914   Durbin-Watson:                   2.138\n",
       "Prob(Omnibus):                  0.633   Jarque-Bera (JB):                0.984\n",
       "Skew:                           0.079   Prob(JB):                        0.611\n",
       "Kurtosis:                       2.692   Cond. No.                         1.60\n",
       "==============================================================================\n",
       "\n",
       "Warnings:\n",
       "[1] Standard Errors assume that the covariance matrix of the errors is correctly specified.\n",
       "\"\"\""
      ]
     },
     "execution_count": 28,
     "metadata": {},
     "output_type": "execute_result"
    }
   ],
   "source": [
    "### remove min_temp\n",
    "\n",
    "# Create your feature matrix (X) and target vector (y)\n",
    "y, X = patsy.dmatrices('log_dengue_cases ~ max_temp + headache + ache_pain + dengue + rashes', \n",
    "                       data=df_for_stats_model, return_type=\"dataframe\")\n",
    "\n",
    "# Create your model\n",
    "model = sm.OLS(y, X)\n",
    "\n",
    "# Fit your model to your training set\n",
    "fit = model.fit()\n",
    "\n",
    "# Print summary statistics of the model's performance\n",
    "fit.summary()"
   ]
  },
  {
   "cell_type": "code",
   "execution_count": 29,
   "metadata": {},
   "outputs": [],
   "source": [
    "new_df = df.drop(columns = ['min_temp'])\n",
    "X, y = df.drop(['log_dengue_cases'],axis=1), df['log_dengue_cases']\n",
    "X_train, X_test, y_train, y_test = train_test_split(X, y, test_size=.2, random_state=10)\n"
   ]
  },
  {
   "cell_type": "code",
   "execution_count": 30,
   "metadata": {},
   "outputs": [],
   "source": [
    "lm = LinearRegression()\n",
    "lm.fit(X_train_scaled, y_train)\n",
    "lm.score(X_test_scaled, y_test)\n",
    "r_test = lm.score(X_test_scaled, y_test)"
   ]
  },
  {
   "cell_type": "code",
   "execution_count": 34,
   "metadata": {},
   "outputs": [],
   "source": [
    "adjusted_r2 = 1-(1-r_test)*(X_train_scaled.shape[0]-1)/(X_train_scaled.shape[0]-X_train_scaled.shape[1]-1)"
   ]
  },
  {
   "cell_type": "code",
   "execution_count": 35,
   "metadata": {},
   "outputs": [
    {
     "data": {
      "text/plain": [
       "0.7152132670051103"
      ]
     },
     "execution_count": 35,
     "metadata": {},
     "output_type": "execute_result"
    }
   ],
   "source": [
    "adjusted_r2"
   ]
  },
  {
   "cell_type": "code",
   "execution_count": null,
   "metadata": {},
   "outputs": [],
   "source": []
  }
 ],
 "metadata": {
  "kernelspec": {
   "display_name": "Python 3",
   "language": "python",
   "name": "python3"
  },
  "language_info": {
   "codemirror_mode": {
    "name": "ipython",
    "version": 3
   },
   "file_extension": ".py",
   "mimetype": "text/x-python",
   "name": "python",
   "nbconvert_exporter": "python",
   "pygments_lexer": "ipython3",
   "version": "3.7.4"
  }
 },
 "nbformat": 4,
 "nbformat_minor": 2
}
